{
 "cells": [
  {
   "cell_type": "markdown",
   "id": "0e8f453f-92a7-4c8b-8369-8e2f8c8022e0",
   "metadata": {},
   "source": [
    "\n",
    "Features of Python:\n",
    "\n",
    "Open source - Extensive libraries, frameworks.\n",
    "\n",
    "user friendly - Ease of use syntax wise.\n",
    "\n",
    "Interpreter - Executes the code line by line.\n",
    "\n",
    "Java - Takes the whole code, convert it to binary, executes the binary code\n",
    "\n",
    "Python - Executes the code line by line, convert it to binary, executes the binary code, hence less faster than java.\n",
    "\n",
    "Multipurpose - Data analysis, Machine Learning, Flask, Django (web applications).\n",
    "\n",
    "Object oriented programming - Inheritance (Supports multiple inheritance), Encapsulation, Abstraction.\n",
    "\n",
    "Cross platform - Supports any OS.\n",
    "\n",
    "Multi-threading - Uses the concepts of threads of Operating System in order to execute the code parallely."
   ]
  },
  {
   "cell_type": "code",
   "execution_count": null,
   "id": "c491d07e-5094-43ec-834f-829906005606",
   "metadata": {},
   "outputs": [],
   "source": [
    "Topic 1: Variables and Expressions\n",
    "\n",
    "Syntax: variable_name = value"
   ]
  },
  {
   "cell_type": "code",
   "execution_count": 1,
   "id": "c3a5707a-47f2-4897-a40e-e4c60f3c94e4",
   "metadata": {},
   "outputs": [
    {
     "name": "stdout",
     "output_type": "stream",
     "text": [
      "5\n"
     ]
    }
   ],
   "source": [
    "#Declaring a variable\n",
    "\n",
    "#Example 1\n",
    "a = 5\n",
    "\n",
    "print(a)"
   ]
  },
  {
   "cell_type": "code",
   "execution_count": null,
   "id": "9e6bae94-14bf-4584-a2f6-501ad3682a9f",
   "metadata": {},
   "outputs": [],
   "source": [
    "#Example 2\n",
    "car = 'benz'\n",
    "\n",
    "print(car)"
   ]
  },
  {
   "cell_type": "markdown",
   "id": "01921122-4bee-4322-abda-e656e41e93ca",
   "metadata": {},
   "source": [
    "Topic 2: Data Types in Python:\n",
    "\n",
    "integer - Whole number\n",
    "\n",
    "float - Number with decimal points\n",
    "\n",
    "string - Character or a Sentence"
   ]
  },
  {
   "cell_type": "code",
   "execution_count": null,
   "id": "3b8d9b1f-7840-4b16-bb9e-147ee7d179e2",
   "metadata": {},
   "outputs": [],
   "source": []
  }
 ],
 "metadata": {
  "kernelspec": {
   "display_name": "Python 3 (ipykernel)",
   "language": "python",
   "name": "python3"
  },
  "language_info": {
   "codemirror_mode": {
    "name": "ipython",
    "version": 3
   },
   "file_extension": ".py",
   "mimetype": "text/x-python",
   "name": "python",
   "nbconvert_exporter": "python",
   "pygments_lexer": "ipython3",
   "version": "3.12.4"
  }
 },
 "nbformat": 4,
 "nbformat_minor": 5
}
