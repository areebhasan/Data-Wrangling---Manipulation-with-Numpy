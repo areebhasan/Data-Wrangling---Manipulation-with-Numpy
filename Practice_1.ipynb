{
 "cells": [
  {
   "cell_type": "markdown",
   "id": "0e8f453f-92a7-4c8b-8369-8e2f8c8022e0",
   "metadata": {},
   "source": [
    "\n",
    "Features of Python:\n",
    "\n",
    "Open source - Extensive libraries, frameworks.\n",
    "\n",
    "user friendly - Ease of use syntax wise.\n",
    "\n",
    "Interpreter - Executes the code line by line.\n",
    "\n",
    "Java - Takes the whole code, convert it to binary, executes the binary code\n",
    "\n",
    "Python - Executes the code line by line, convert it to binary, executes the binary code, hence less faster than java.\n",
    "\n",
    "Multipurpose - Data analysis, Machine Learning, Flask, Django (web applications).\n",
    "\n",
    "Object oriented programming - Inheritance (Supports multiple inheritance), Encapsulation, Abstraction.\n",
    "\n",
    "Cross platform - Supports any OS.\n",
    "\n",
    "Multi-threading - Uses the concepts of threads of Operating System in order to execute the code parallely."
   ]
  },
  {
   "cell_type": "code",
   "execution_count": null,
   "id": "c491d07e-5094-43ec-834f-829906005606",
   "metadata": {},
   "outputs": [],
   "source": [
    "Topic 1: Variables and Expressions\n",
    "\n",
    "Syntax: variable_name = value"
   ]
  },
  {
   "cell_type": "code",
   "execution_count": 1,
   "id": "c3a5707a-47f2-4897-a40e-e4c60f3c94e4",
   "metadata": {},
   "outputs": [
    {
     "name": "stdout",
     "output_type": "stream",
     "text": [
      "5\n"
     ]
    }
   ],
   "source": [
    "#Declaring a variable\n",
    "\n",
    "#Example 1\n",
    "a = 5\n",
    "\n",
    "print(a)"
   ]
  },
  {
   "cell_type": "code",
   "execution_count": null,
   "id": "9e6bae94-14bf-4584-a2f6-501ad3682a9f",
   "metadata": {},
   "outputs": [],
   "source": [
    "#Example 2\n",
    "car = 'benz'\n",
    "\n",
    "print(car)"
   ]
  },
  {
   "cell_type": "markdown",
   "id": "01921122-4bee-4322-abda-e656e41e93ca",
   "metadata": {},
   "source": [
    "Topic 2: Data Types in Python:\n",
    "\n",
    "integer - Whole number\n",
    "\n",
    "float - Number with decimal points\n",
    "\n",
    "string - Character or a Sentence"
   ]
  },
  {
   "cell_type": "code",
   "execution_count": 3,
   "id": "3b8d9b1f-7840-4b16-bb9e-147ee7d179e2",
   "metadata": {},
   "outputs": [
    {
     "name": "stdout",
     "output_type": "stream",
     "text": [
      "<class 'int'>\n"
     ]
    }
   ],
   "source": [
    "#Example 1\n",
    "a = 5\n",
    "\n",
    "# type is an in-built function in Python which displays the data-type of any variable\n",
    "print(type(a))"
   ]
  },
  {
   "cell_type": "code",
   "execution_count": 5,
   "id": "7a061f5c-cf6c-4802-b3e8-3719188e932d",
   "metadata": {},
   "outputs": [
    {
     "name": "stdout",
     "output_type": "stream",
     "text": [
      "<class 'float'>\n"
     ]
    }
   ],
   "source": [
    "#Example 2\n",
    "a = 5.0\n",
    "\n",
    "print(type(a))"
   ]
  },
  {
   "cell_type": "code",
   "execution_count": 7,
   "id": "0e2e4266-17ef-4a9f-a772-e2dc7a401ad6",
   "metadata": {},
   "outputs": [
    {
     "name": "stdout",
     "output_type": "stream",
     "text": [
      "<class 'str'>\n"
     ]
    }
   ],
   "source": [
    "#Example 3\n",
    "car = 'benz'\n",
    "\n",
    "print(type(car))"
   ]
  },
  {
   "cell_type": "markdown",
   "id": "36f4d258-ea26-4acd-a358-677e00e252f2",
   "metadata": {},
   "source": [
    "Topic 3: Mathematical Operations in Python"
   ]
  },
  {
   "cell_type": "code",
   "execution_count": 9,
   "id": "8788ac03-ffea-4636-b282-05de08ae9b85",
   "metadata": {},
   "outputs": [
    {
     "name": "stdout",
     "output_type": "stream",
     "text": [
      "11\n"
     ]
    }
   ],
   "source": [
    "#Addition Operation\n",
    "\n",
    "a = 5\n",
    "b = 6\n",
    "\n",
    "c = a + b\n",
    "\n",
    "print(c)"
   ]
  },
  {
   "cell_type": "code",
   "execution_count": 11,
   "id": "48cf0dfc-aaad-4b07-b878-e07b26f5ae3d",
   "metadata": {},
   "outputs": [
    {
     "name": "stdout",
     "output_type": "stream",
     "text": [
      "-1\n"
     ]
    }
   ],
   "source": [
    "#Subtraction Operation\n",
    "\n",
    "a = 5\n",
    "b = 6\n",
    "\n",
    "c = a - b\n",
    "\n",
    "print(c)"
   ]
  },
  {
   "cell_type": "code",
   "execution_count": 13,
   "id": "83d866b7-d49c-415b-bf58-d7ab3ac1cb2a",
   "metadata": {},
   "outputs": [
    {
     "name": "stdout",
     "output_type": "stream",
     "text": [
      "30\n"
     ]
    }
   ],
   "source": [
    "#Multiplication Operation\n",
    "\n",
    "a = 5\n",
    "b = 6\n",
    "\n",
    "c = a * b\n",
    "\n",
    "print(c)"
   ]
  },
  {
   "cell_type": "code",
   "execution_count": 15,
   "id": "80d87ccf-6273-4719-bd6e-4b71d57be637",
   "metadata": {},
   "outputs": [
    {
     "name": "stdout",
     "output_type": "stream",
     "text": [
      "1.2\n"
     ]
    }
   ],
   "source": [
    "#Division Operation\n",
    "\n",
    "a = 5\n",
    "b = 6\n",
    "\n",
    "c = b / a\n",
    "\n",
    "print(c)"
   ]
  },
  {
   "cell_type": "code",
   "execution_count": 17,
   "id": "e1851751-387a-453e-a9e3-ef7c4711d2ef",
   "metadata": {},
   "outputs": [
    {
     "name": "stdout",
     "output_type": "stream",
     "text": [
      "1\n",
      "<class 'int'>\n"
     ]
    }
   ],
   "source": [
    "#Integer Division Operation\n",
    "\n",
    "a = 5\n",
    "b = 6\n",
    "c = b // a\n",
    "\n",
    "print(c)\n",
    "\n",
    "print(type(c))"
   ]
  },
  {
   "cell_type": "code",
   "execution_count": 19,
   "id": "b3d916bc-8ece-4fef-abbd-81f3a2433f9e",
   "metadata": {},
   "outputs": [
    {
     "name": "stdout",
     "output_type": "stream",
     "text": [
      "1\n",
      "<class 'int'>\n"
     ]
    }
   ],
   "source": [
    "#Modulo Operation\n",
    "\n",
    "a = 5\n",
    "b = 6\n",
    "c = b % a\n",
    "\n",
    "print(c)\n",
    "\n",
    "print(type(c))"
   ]
  },
  {
   "cell_type": "code",
   "execution_count": 21,
   "id": "cf502d80-2ab5-4900-b757-634063b81052",
   "metadata": {},
   "outputs": [
    {
     "name": "stdout",
     "output_type": "stream",
     "text": [
      "25\n"
     ]
    }
   ],
   "source": [
    "#Power operation\n",
    "\n",
    "a = 5\n",
    "\n",
    "b = a ** 2\n",
    "\n",
    "print(b)"
   ]
  },
  {
   "cell_type": "code",
   "execution_count": 31,
   "id": "bd6debc1-32f4-4024-996b-e7c779736c78",
   "metadata": {},
   "outputs": [
    {
     "name": "stdout",
     "output_type": "stream",
     "text": [
      "Factorial of 6 is 720\n"
     ]
    }
   ],
   "source": [
    "#Factorial Operation\n",
    "\n",
    "import math\n",
    "\n",
    "a = 6\n",
    "factorial = math.factorial(a)\n",
    "\n",
    "factorial_print = 'Factorial of {} is {}'.format(a, factorial)\n",
    "\n",
    "print(factorial_print)"
   ]
  },
  {
   "cell_type": "code",
   "execution_count": 33,
   "id": "bbdb016d-92a8-457d-b8ed-7a9ac8ec1751",
   "metadata": {},
   "outputs": [
    {
     "name": "stdout",
     "output_type": "stream",
     "text": [
      "4\n",
      "<class 'int'>\n",
      "9\n",
      "<class 'int'>\n"
     ]
    }
   ],
   "source": [
    "#In-built library - Users can use existing functionalities, avoiding re-inventing the wheel.\n",
    "import math\n",
    "\n",
    "a = 5\n",
    "b = math.floor(4.555)\n",
    "\n",
    "print(b)\n",
    "\n",
    "print(type(b))\n",
    "\n",
    "c = a + b\n",
    "\n",
    "#Float to Integer\n",
    "#c = int(c)\n",
    "\n",
    "print(c)\n",
    "print(type(c))"
   ]
  },
  {
   "cell_type": "markdown",
   "id": "e54eebaa-5fab-4272-8750-f876f316d21a",
   "metadata": {},
   "source": [
    "Topic 4: String Operations in Python"
   ]
  },
  {
   "cell_type": "code",
   "execution_count": 39,
   "id": "7f3971cd-cfa5-4060-b54d-65ce0400d4a8",
   "metadata": {},
   "outputs": [
    {
     "name": "stdout",
     "output_type": "stream",
     "text": [
      "benz Max\n"
     ]
    }
   ],
   "source": [
    "car = 'benz'\n",
    "\n",
    "name = 'Max'\n",
    "\n",
    "namecar = car + ' ' + name\n",
    "\n",
    "print(namecar)"
   ]
  },
  {
   "cell_type": "code",
   "execution_count": 41,
   "id": "fd501ed1-a9ba-450b-abdb-4f32f5e0c2a1",
   "metadata": {},
   "outputs": [
    {
     "name": "stdout",
     "output_type": "stream",
     "text": [
      "8\n"
     ]
    }
   ],
   "source": [
    "#len() - Counts total number of characters in a string\n",
    "\n",
    "length_of_string = len(namecar)\n",
    "\n",
    "print(length_of_string)"
   ]
  },
  {
   "cell_type": "code",
   "execution_count": 43,
   "id": "06f774a2-b845-4342-a09a-4446c2035fd4",
   "metadata": {},
   "outputs": [
    {
     "name": "stdout",
     "output_type": "stream",
     "text": [
      "BENZ MAX\n"
     ]
    }
   ],
   "source": [
    "#Upper() - Converts lowercase characters to uppercase characters\n",
    "\n",
    "upper = namecar.upper()\n",
    "\n",
    "print(upper)"
   ]
  },
  {
   "cell_type": "code",
   "execution_count": 45,
   "id": "88fce4dd-8c67-42f9-b9a6-0b37763c7c8c",
   "metadata": {},
   "outputs": [
    {
     "name": "stdout",
     "output_type": "stream",
     "text": [
      "benz max\n"
     ]
    }
   ],
   "source": [
    "#lower() - Converts uppercase characters to lowercase characters\n",
    "\n",
    "upper = namecar.lower()\n",
    "\n",
    "print(upper)"
   ]
  },
  {
   "cell_type": "code",
   "execution_count": 47,
   "id": "0b403b8b-d087-4ae6-8a3a-129625f36b38",
   "metadata": {},
   "outputs": [
    {
     "name": "stdout",
     "output_type": "stream",
     "text": [
      "My name is Max\n",
      "My name is Maximus\n"
     ]
    }
   ],
   "source": [
    "#Replace - Replaces old string value with the new string value\n",
    "\n",
    "sentence = \"My name is Max\"\n",
    "\n",
    "new_sentence = sentence.replace(\"Max\", \"Maximus\")\n",
    "\n",
    "print(sentence)\n",
    "\n",
    "print(new_sentence)"
   ]
  },
  {
   "cell_type": "code",
   "execution_count": 49,
   "id": "11697835-3fa8-4203-86ef-c1716050624e",
   "metadata": {},
   "outputs": [
    {
     "name": "stdout",
     "output_type": "stream",
     "text": [
      "        My name is Max        \n",
      "My name is Max\n"
     ]
    }
   ],
   "source": [
    "#Strip() - Removes the unwanted whitespace in the string\n",
    "\n",
    "text = \"        My name is Max        \"\n",
    "\n",
    "print(text)\n",
    "\n",
    "print(text.strip())"
   ]
  },
  {
   "cell_type": "code",
   "execution_count": 53,
   "id": "343464df-d28d-4f76-830a-d5780f33b2e6",
   "metadata": {},
   "outputs": [
    {
     "name": "stdout",
     "output_type": "stream",
     "text": [
      "My name is Max\n",
      "['My', 'name', 'is', 'Max']\n",
      "['My', 'name', 'is', 'Max']\n"
     ]
    }
   ],
   "source": [
    "#Split() - Splits the string into each individual word\n",
    "\n",
    "text = \"My name is Max\"\n",
    "\n",
    "print(text)\n",
    "\n",
    "array = text.split()\n",
    "\n",
    "print(array)\n",
    "\n",
    "print(text.split())"
   ]
  },
  {
   "cell_type": "code",
   "execution_count": 55,
   "id": "3f9792b3-6fe7-47ac-950f-d5259bb3ccaf",
   "metadata": {},
   "outputs": [
    {
     "name": "stdout",
     "output_type": "stream",
     "text": [
      "<class 'str'>\n",
      "6benz\n"
     ]
    }
   ],
   "source": [
    "#Typecasting - Changing one data type to other data type\n",
    "\n",
    "#Integer to String\n",
    "\n",
    "a = 6\n",
    "\n",
    "a = str(a)\n",
    "\n",
    "print(type(a))\n",
    "\n",
    "acar = a + car\n",
    "\n",
    "print(acar)"
   ]
  },
  {
   "cell_type": "code",
   "execution_count": 57,
   "id": "4f37a11f-a661-45f7-9aff-b57592ffcc1f",
   "metadata": {},
   "outputs": [
    {
     "name": "stdout",
     "output_type": "stream",
     "text": [
      "<class 'int'>\n"
     ]
    },
    {
     "ename": "TypeError",
     "evalue": "unsupported operand type(s) for +: 'int' and 'str'",
     "output_type": "error",
     "traceback": [
      "\u001b[0;31m---------------------------------------------------------------------------\u001b[0m",
      "\u001b[0;31mTypeError\u001b[0m                                 Traceback (most recent call last)",
      "Cell \u001b[0;32mIn[57], line 7\u001b[0m\n\u001b[1;32m      3\u001b[0m a \u001b[38;5;241m=\u001b[39m \u001b[38;5;28mint\u001b[39m(a)\n\u001b[1;32m      5\u001b[0m \u001b[38;5;28mprint\u001b[39m(\u001b[38;5;28mtype\u001b[39m(a))\n\u001b[0;32m----> 7\u001b[0m acar \u001b[38;5;241m=\u001b[39m a \u001b[38;5;241m+\u001b[39m car\n\u001b[1;32m      9\u001b[0m \u001b[38;5;28mprint\u001b[39m(acar)\n",
      "\u001b[0;31mTypeError\u001b[0m: unsupported operand type(s) for +: 'int' and 'str'"
     ]
    }
   ],
   "source": [
    "#String to Integer - Cannot append data of different data types, ending in throwing an error while executing the code.\n",
    "\n",
    "a = int(a)\n",
    "\n",
    "print(type(a))\n",
    "\n",
    "acar = a + car\n",
    "\n",
    "print(acar)"
   ]
  },
  {
   "cell_type": "code",
   "execution_count": 59,
   "id": "741cdcb9-0fc7-4020-9d4b-d1e97853d66f",
   "metadata": {},
   "outputs": [
    {
     "name": "stdout",
     "output_type": "stream",
     "text": [
      "5car\n"
     ]
    }
   ],
   "source": [
    "#In this example we are typecasting the integer value 'a' to string and now we can append to the value 'b' without any issues.\n",
    "\n",
    "a = 5\n",
    "\n",
    "b = \"car\"\n",
    "\n",
    "acar = str(a) + b\n",
    "\n",
    "print(acar)"
   ]
  },
  {
   "cell_type": "markdown",
   "id": "5ea3dda0-221d-4a98-a11c-e6a243b05dd4",
   "metadata": {},
   "source": [
    "Topic 5: How to take user input?"
   ]
  },
  {
   "cell_type": "code",
   "execution_count": 61,
   "id": "69a3a2de-281c-44b3-b9e9-ecad050dacea",
   "metadata": {},
   "outputs": [
    {
     "name": "stdin",
     "output_type": "stream",
     "text": [
      "Enter your name:  Areeb\n"
     ]
    },
    {
     "name": "stdout",
     "output_type": "stream",
     "text": [
      "My name is Areeb\n"
     ]
    }
   ],
   "source": [
    "#input() - Allows the user to input a value of their choice. By default the input function considers the user input as string.\n",
    "\n",
    "#Example 1 - Taking user input\n",
    "\n",
    "user_input = input(\"Enter your name: \")\n",
    "\n",
    "print(\"My name is\", user_input)"
   ]
  },
  {
   "cell_type": "code",
   "execution_count": 63,
   "id": "a2aacaea-a03d-46b7-9561-bd07d6288a8d",
   "metadata": {},
   "outputs": [
    {
     "name": "stdin",
     "output_type": "stream",
     "text": [
      "Enter a number:  25\n"
     ]
    },
    {
     "name": "stdout",
     "output_type": "stream",
     "text": [
      "The value of a is 25\n"
     ]
    },
    {
     "name": "stdin",
     "output_type": "stream",
     "text": [
      "Enter another number:  35\n"
     ]
    },
    {
     "name": "stdout",
     "output_type": "stream",
     "text": [
      "The value of b is 35\n",
      "The sum of the two numbers is 60\n"
     ]
    }
   ],
   "source": [
    "#If we have to take the integer input we will have to typecast it as int(input(\"User message\"))\n",
    "\n",
    "#Example 2 - Taking integer input\n",
    "\n",
    "a = int(input(\"Enter a number: \"))\n",
    "print(\"The value of a is\", a)\n",
    "\n",
    "b = int(input(\"Enter another number: \"))\n",
    "\n",
    "print(\"The value of b is\", b)\n",
    "\n",
    "c = a + b\n",
    "\n",
    "print(\"The sum of the two numbers is\", c)"
   ]
  },
  {
   "cell_type": "code",
   "execution_count": 69,
   "id": "dc00ac38-8ce8-41c7-8d8d-7a0d6aaa72a8",
   "metadata": {},
   "outputs": [
    {
     "name": "stdout",
     "output_type": "stream",
     "text": [
      "My name is Max and my full name is Maximus\n"
     ]
    }
   ],
   "source": [
    "#Python allows us to print dynamic values. The curly braces is a placeholder in the string which can be any value given by the user.\n",
    "#format function then inserts the value given by the user in the respective placeholder.\n",
    "\n",
    "#Example 1\n",
    "txt = \"My name is {name} and my full name is {fm}\".format(fm = \"Maximus\", name = \"Max\")\n",
    "\n",
    "print(txt)"
   ]
  },
  {
   "cell_type": "code",
   "execution_count": null,
   "id": "0964e61e-7812-46ac-a972-d9797c623b72",
   "metadata": {},
   "outputs": [],
   "source": []
  }
 ],
 "metadata": {
  "kernelspec": {
   "display_name": "Python 3 (ipykernel)",
   "language": "python",
   "name": "python3"
  },
  "language_info": {
   "codemirror_mode": {
    "name": "ipython",
    "version": 3
   },
   "file_extension": ".py",
   "mimetype": "text/x-python",
   "name": "python",
   "nbconvert_exporter": "python",
   "pygments_lexer": "ipython3",
   "version": "3.12.4"
  }
 },
 "nbformat": 4,
 "nbformat_minor": 5
}
