{
 "cells": [
  {
   "cell_type": "markdown",
   "id": "0041edd3-3456-47e8-b6ab-485061352717",
   "metadata": {},
   "source": [
    "\n",
    "Topic 1: Conditional Statements\n",
    "\n",
    "We use conditional statements in order to take a decision based on the pre-defined conditions. To acheive this, we use if, elif and else statements in Python."
   ]
  },
  {
   "cell_type": "markdown",
   "id": "09b9392d-eb54-4e4f-a1b2-db4142215779",
   "metadata": {},
   "source": [
    "Below are the general conditions we assign in order to make a decision to obtain an outcome:\n",
    "\n",
    "Greater than condition: >\n",
    "\n",
    "Lesser than condition: <\n",
    "\n",
    "Equal to: ==\n",
    "\n",
    "Not equal to: !="
   ]
  },
  {
   "cell_type": "markdown",
   "id": "3279fe51-4462-451a-8aaa-0cadc4d2f291",
   "metadata": {},
   "source": [
    "We usually deal with decisions like true or false, yes or no (Commonly called as Boolean) in our daily lives. Below are basic examples for the same."
   ]
  },
  {
   "cell_type": "code",
   "execution_count": 3,
   "id": "bbf33e69-63fc-47a2-a9b6-e229bfaa4d12",
   "metadata": {},
   "outputs": [
    {
     "name": "stdout",
     "output_type": "stream",
     "text": [
      "True\n"
     ]
    }
   ],
   "source": [
    "#Example 1\n",
    "a = 5\n",
    "b = 5\n",
    "\n",
    "print(a == b)"
   ]
  },
  {
   "cell_type": "code",
   "execution_count": 5,
   "id": "c3c9b748-fe0e-42f1-bc60-e87fa2fd7bbe",
   "metadata": {},
   "outputs": [
    {
     "name": "stdout",
     "output_type": "stream",
     "text": [
      "False\n"
     ]
    }
   ],
   "source": [
    "#Example 2\n",
    "a = 5\n",
    "b = 6\n",
    "\n",
    "print(a > b)"
   ]
  },
  {
   "cell_type": "code",
   "execution_count": 7,
   "id": "09a9b82d-f176-48ac-8f14-16f7577c323d",
   "metadata": {},
   "outputs": [
    {
     "name": "stdout",
     "output_type": "stream",
     "text": [
      "True\n"
     ]
    }
   ],
   "source": [
    "#Example 3\n",
    "a = 5\n",
    "b = 6\n",
    "\n",
    "print(a < b)"
   ]
  },
  {
   "cell_type": "code",
   "execution_count": 9,
   "id": "02846a77-7760-4f79-bbb8-1ad1cceb8fec",
   "metadata": {},
   "outputs": [
    {
     "name": "stdout",
     "output_type": "stream",
     "text": [
      "True\n"
     ]
    }
   ],
   "source": [
    "#Example 4\n",
    "a = 5\n",
    "b = 6\n",
    "\n",
    "print(a != b)"
   ]
  },
  {
   "cell_type": "markdown",
   "id": "e3123796-2f76-4af7-8226-19c72e5424ca",
   "metadata": {},
   "source": [
    "But sometimes we will need much more meaningful outcomes rather than a simple yes or no. Sometimes we will have multiple factors which lead to multiple outcomes. In those cases a simple yes or no will not suffice. In those cases we will need a stronger mechanisms to handle such scenarios. In Python we deal with them by using if, elif and else statements."
   ]
  },
  {
   "cell_type": "markdown",
   "id": "27f39eb6-a483-4689-a631-a775d288f571",
   "metadata": {},
   "source": [
    "Each condition is ended by a colon, which means the end of the statement for that condition. It is followed by a phenomenon called as \"Intendation\" (a single tab space) in which we write our desired outcome or any operation we wish to operate. The block of code within that intendation means it belongs to that particular condition. To come out of that block we can come to the next line and backspace till we arrive to the beginning of the line."
   ]
  },
  {
   "cell_type": "code",
   "execution_count": 11,
   "id": "2fcd9fed-ceb2-4e16-b31f-b56bbf9a7ea1",
   "metadata": {},
   "outputs": [
    {
     "name": "stdout",
     "output_type": "stream",
     "text": [
      "True\n",
      "Outside the if block\n"
     ]
    }
   ],
   "source": [
    "#Example 1 -\n",
    "\"\"\"In this case if the condition is satisfied the outcome is printed, if we havent specified alternate outcome where the condition isnt satisfied, in those cases\n",
    "No output is returned by the code since we havent handled that scenario.\"\"\"\n",
    "\n",
    "a = 5\n",
    "b = 6\n",
    "\n",
    "if a < b:\n",
    "  print(\"True\")\n",
    "\n",
    "print(\"Outside the if block\")"
   ]
  },
  {
   "cell_type": "code",
   "execution_count": 13,
   "id": "da3fc213-2baf-49dd-8bd5-acb6271e3a9c",
   "metadata": {},
   "outputs": [
    {
     "name": "stdout",
     "output_type": "stream",
     "text": [
      "True\n",
      "Outside the if block\n"
     ]
    }
   ],
   "source": [
    "#Example 2 -\n",
    "\"\"\"To handle the alternate outcome we use the else block. Else, similar to if has its own colon and intendation to specify that the code belong to it.\n",
    "But unlike if, it doesnt need an explicit condition to be specified, so if the initial condition is not met then the code executes the alternate condition by default and\n",
    "returns the outcome.\"\"\"\n",
    "\n",
    "a = 5\n",
    "b = 6\n",
    "\n",
    "if a < b:\n",
    "  print(\"True\")\n",
    "else:\n",
    "  print(\"False\")\n",
    "\n",
    "print(\"Outside the if block\")"
   ]
  },
  {
   "cell_type": "code",
   "execution_count": 15,
   "id": "f47116b2-0dd4-4c67-9a19-4bd54ec37b84",
   "metadata": {},
   "outputs": [
    {
     "name": "stdout",
     "output_type": "stream",
     "text": [
      "Go skiing\n"
     ]
    }
   ],
   "source": [
    "\"\"\"Sometimes we will have to deal with multiple scenarios, each having their own consequences. In this case Python allows you this by adding the elif statement.\n",
    "The elif statement is an alternative condition similar to if, where we will have to specify its own condition if the initial condition is not met.\"\"\"\n",
    "\n",
    "#Example 3\n",
    "weather = \"snowing\"\n",
    "\n",
    "if weather == \"sunny\":\n",
    "  print(\"Picnic\")\n",
    "elif weather == \"rainy\":\n",
    "  print(\"Watch a movie\")\n",
    "elif weather == \"snowing\":\n",
    "  print(\"Go skiing\")\n",
    "else:\n",
    "  print(\"Plan cancelled\")"
   ]
  },
  {
   "cell_type": "code",
   "execution_count": 19,
   "id": "c77479f8-ff27-4a39-8e19-eee32f122eaf",
   "metadata": {},
   "outputs": [
    {
     "name": "stdout",
     "output_type": "stream",
     "text": [
      "Plan cancelled\n"
     ]
    }
   ],
   "source": [
    "\"\"\"Sometimes we can have multiple factors leading to a single decision. In those cases we will need a mechanism to handle such cases. Python handles this by allowing us to add\n",
    "\"add\" keyword where we can specify multiple scenarios to a single condition. And works only if both the conditions are true. Even if one of the conditions are not met it will\n",
    "print the alternate outcome.\"\"\"\n",
    "\n",
    "weather = \"Sunny\"\n",
    "feel_good = \"yes\"\n",
    "\n",
    "if weather == \"sunny\" and feel_good == \"yes\":\n",
    "  print(\"Picnic\")\n",
    "else:\n",
    "  print(\"Plan cancelled\")"
   ]
  },
  {
   "cell_type": "code",
   "execution_count": 21,
   "id": "ec733859-853b-41ac-a548-334f6ff00020",
   "metadata": {},
   "outputs": [
    {
     "name": "stdout",
     "output_type": "stream",
     "text": [
      "Lets go outisde\n"
     ]
    }
   ],
   "source": [
    "\"\"\"Sometimes we can have multiple factors but it might not be mandatory to fulfill all of the conditions. Python handles this by allowing us to add\n",
    "\"or\" keyword where we can specify multiple scenarios to a single condition. Unlike \"and\" keyword, or works even if one of the conditions are met. Only if none of the conditions\n",
    "are met it will print the alternate outcome.\"\"\"\n",
    "\n",
    "weather = \"snowing\"\n",
    "feel_good = \"yes\"\n",
    "\n",
    "if weather == \"sunny\" or feel_good == \"yes\":\n",
    "  print(\"Lets go outisde\")\n",
    "else:\n",
    "  print(\"Plan cancelled\")"
   ]
  },
  {
   "cell_type": "markdown",
   "id": "ab581c6a-90f5-45c0-93d3-b9efae39780c",
   "metadata": {},
   "source": [
    "Topic 2: List\n",
    "\n",
    "There comes a time where we will have to handle multiple data at once. Its not possible to store these values in a single variable, thus we need a mechanism which can fulfill this need. The answer to our question is called as 'List'. It is a data structure which can hold multiple values at once."
   ]
  },
  {
   "cell_type": "markdown",
   "id": "7ca7a7ab-eb5b-44c1-958e-2edbfb0c3fe0",
   "metadata": {},
   "source": [
    "Properties of a List:\n",
    "\n",
    "(i) List can hold multiple values and of different data types, unlike arrays which can hold multiple values but of single data type.\n",
    "\n",
    "(ii) Lists are mutable, which means we can update the value, add new value, delete existing values from a list, unlike arrays whose size (number of items it can hold) are fixed.\n",
    "\n",
    "(iii) Lists are ordered and allows us to store duplicate values.\n",
    "\n",
    "(iv) List items are indexed (its position in the list), and the index in the list starts from 0. So the first element will have the index [0], 2nd element will have the index [1] and so on."
   ]
  },
  {
   "cell_type": "code",
   "execution_count": 23,
   "id": "c5ef6615-786b-4f8a-88b9-a2f41aefcb68",
   "metadata": {},
   "outputs": [
    {
     "name": "stdout",
     "output_type": "stream",
     "text": [
      "[1, 2, 3, 4, 5]\n",
      "<class 'list'>\n"
     ]
    }
   ],
   "source": [
    "#Example 1\n",
    "a = [1, 2, 3, 4, 5]\n",
    "\n",
    "print(a)\n",
    "\n",
    "print(type(a))"
   ]
  },
  {
   "cell_type": "code",
   "execution_count": 25,
   "id": "90322ffb-1a7a-45eb-ac4d-35b5b29bf1ff",
   "metadata": {},
   "outputs": [
    {
     "name": "stdout",
     "output_type": "stream",
     "text": [
      "[1, 2, 3, 0, 'Apple', 'Banana', 4]\n"
     ]
    }
   ],
   "source": [
    "#Example 2\n",
    "\n",
    "a = [1, 2, 3, 0, \"Apple\", \"Banana\", 4]\n",
    "\n",
    "print(a)"
   ]
  },
  {
   "cell_type": "code",
   "execution_count": 27,
   "id": "5759f089-f591-42fc-9b20-00bde9defc2d",
   "metadata": {},
   "outputs": [
    {
     "name": "stdout",
     "output_type": "stream",
     "text": [
      "7\n"
     ]
    }
   ],
   "source": [
    "#len - Count of the elements in a list\n",
    "\n",
    "a = [1, 2, 3, 0, \"Apple\", \"Banana\", 4]\n",
    "print(len(a))"
   ]
  },
  {
   "cell_type": "markdown",
   "id": "28742a84-966c-4ec0-a772-e4d4a5d06112",
   "metadata": {},
   "source": [
    "Topic 2: Slice operations to a list"
   ]
  },
  {
   "cell_type": "markdown",
   "id": "07495382-7c54-4d28-b289-059bd8a09a02",
   "metadata": {},
   "source": [
    "Slicing: Fetch the values which we want based on the index value in the list\n",
    "\n",
    "list[start_index:ending_index:step]\n",
    "\n",
    "Elements are fetched starting the start index till the ending index - 1.\n",
    "\n",
    "Step specifies how many elements it has to skip till it reaches the ending index. By default the step value will be 1 if we dont specify the parameter, thus no element in the list will be skipped."
   ]
  },
  {
   "cell_type": "code",
   "execution_count": 29,
   "id": "5b8e9b00-9940-4c53-9154-c2c9723e4e93",
   "metadata": {},
   "outputs": [
    {
     "name": "stdout",
     "output_type": "stream",
     "text": [
      "1\n"
     ]
    }
   ],
   "source": [
    "#Example 1 - Accessing the first element of the list\n",
    "a = [1, 2, 3, 0, \"Apple\", \"Banana\", 4]\n",
    "\n",
    "print(a[0])"
   ]
  },
  {
   "cell_type": "code",
   "execution_count": 31,
   "id": "006f53ec-b1ea-4651-8d66-947c7a19a4b9",
   "metadata": {},
   "outputs": [
    {
     "ename": "IndexError",
     "evalue": "list index out of range",
     "output_type": "error",
     "traceback": [
      "\u001b[0;31m---------------------------------------------------------------------------\u001b[0m",
      "\u001b[0;31mIndexError\u001b[0m                                Traceback (most recent call last)",
      "Cell \u001b[0;32mIn[31], line 4\u001b[0m\n\u001b[1;32m      1\u001b[0m \u001b[38;5;66;03m#Example 2\u001b[39;00m\n\u001b[1;32m      2\u001b[0m a \u001b[38;5;241m=\u001b[39m [\u001b[38;5;241m1\u001b[39m, \u001b[38;5;241m2\u001b[39m, \u001b[38;5;241m3\u001b[39m, \u001b[38;5;241m0\u001b[39m, \u001b[38;5;124m\"\u001b[39m\u001b[38;5;124mApple\u001b[39m\u001b[38;5;124m\"\u001b[39m, \u001b[38;5;124m\"\u001b[39m\u001b[38;5;124mBanana\u001b[39m\u001b[38;5;124m\"\u001b[39m, \u001b[38;5;241m4\u001b[39m]\n\u001b[0;32m----> 4\u001b[0m \u001b[38;5;28mprint\u001b[39m(a[\u001b[38;5;241m7\u001b[39m])\n",
      "\u001b[0;31mIndexError\u001b[0m: list index out of range"
     ]
    }
   ],
   "source": [
    "#Example 2\n",
    "a = [1, 2, 3, 0, \"Apple\", \"Banana\", 4]\n",
    "\n",
    "print(a[7])"
   ]
  },
  {
   "cell_type": "code",
   "execution_count": 33,
   "id": "0e7bb044-8b2e-4558-8251-0c3c0353577f",
   "metadata": {},
   "outputs": [
    {
     "name": "stdout",
     "output_type": "stream",
     "text": [
      "[1, 2, 3, 0]\n"
     ]
    }
   ],
   "source": [
    "#Example 3 - In this example we give the start index as 0 (First element) and end index as 4 (Fifth element).\n",
    "a = [1, 2, 3, 0, \"Apple\", \"Banana\"]\n",
    "\n",
    "print(a[0:4])"
   ]
  },
  {
   "cell_type": "code",
   "execution_count": 39,
   "id": "8425f593-cebb-4a05-824d-e6ea8f7d556c",
   "metadata": {},
   "outputs": [
    {
     "name": "stdout",
     "output_type": "stream",
     "text": [
      "[2, 3, 0, 'Apple', 'Banana']\n"
     ]
    }
   ],
   "source": [
    "#Example 4\n",
    "a = [1, 2, 3, 0, \"Apple\", \"Banana\"]\n",
    "\n",
    "print(a[1:6])"
   ]
  },
  {
   "cell_type": "code",
   "execution_count": 41,
   "id": "91905b9e-26b7-481f-8f58-7f89b8f33231",
   "metadata": {},
   "outputs": [
    {
     "name": "stdout",
     "output_type": "stream",
     "text": [
      "[3, 0, 'Apple', 'Banana', 'Orange']\n"
     ]
    }
   ],
   "source": [
    "#Example 5\n",
    "a = [1, 2, 3, 0, \"Apple\", \"Banana\", \"Orange\", 4, 5, 6]\n",
    "\n",
    "print(a[2:7])"
   ]
  },
  {
   "cell_type": "code",
   "execution_count": 43,
   "id": "2090c4cd-2419-4222-813d-edda116776fc",
   "metadata": {},
   "outputs": [
    {
     "name": "stdout",
     "output_type": "stream",
     "text": [
      "[3, 0, 'Apple', 'Banana', 'Orange', 4, 5, 6]\n"
     ]
    }
   ],
   "source": [
    "#Example 6 - Start index 2 and No End index\n",
    "a = [1, 2, 3, 0, \"Apple\", \"Banana\", \"Orange\", 4, 5, 6]\n",
    "\n",
    "print(a[2:])"
   ]
  },
  {
   "cell_type": "code",
   "execution_count": 45,
   "id": "a547bd6c-4f87-4d71-b0ad-a6637e5bb9a7",
   "metadata": {},
   "outputs": [
    {
     "name": "stdout",
     "output_type": "stream",
     "text": [
      "[1, 2, 3, 0]\n"
     ]
    }
   ],
   "source": [
    "#Example 7 - No start index and End index is 4\n",
    "a = [1, 2, 3, 0, \"Apple\", \"Banana\", \"Orange\", 4, 5, 6]\n",
    "\n",
    "print(a[:4])"
   ]
  },
  {
   "cell_type": "code",
   "execution_count": 47,
   "id": "5237fe3e-8e2a-4614-95f9-4ec5fff7fe03",
   "metadata": {},
   "outputs": [
    {
     "name": "stdout",
     "output_type": "stream",
     "text": [
      "[1, 3, 'Apple']\n"
     ]
    }
   ],
   "source": [
    "#Example 8 - In this example we have mentioned the step as 2, thus every 2nd element within the specified range will be skipped.\n",
    "a = [1, 2, 3, 0, \"Apple\", \"Banana\", \"Orange\", 4, 5, 6]\n",
    "\n",
    "print(a[0:5:2])"
   ]
  },
  {
   "cell_type": "code",
   "execution_count": 49,
   "id": "8b8bf0e7-296d-4ed0-a643-3426c9387cab",
   "metadata": {},
   "outputs": [
    {
     "name": "stdout",
     "output_type": "stream",
     "text": [
      "[2, 'Apple', 4]\n"
     ]
    }
   ],
   "source": [
    "#Exercise 1 - Guess the output for this code and mention why.\n",
    "a = [1, 2, 3, 0, \"Apple\", \"Banana\", \"Orange\", 4, 5, 6, \"Cherry\", \"Mango\", 7, 8, 9]\n",
    "\n",
    "print(a[1:9:3])"
   ]
  },
  {
   "cell_type": "code",
   "execution_count": 53,
   "id": "3d47bfc4-5c39-4aec-8501-2c25a9d79582",
   "metadata": {},
   "outputs": [
    {
     "name": "stdout",
     "output_type": "stream",
     "text": [
      "4\n"
     ]
    }
   ],
   "source": [
    "#Example 9 - We can also access from the end of the list by specifying the negative index\n",
    "\n",
    "a = [1, 2, 3, 0, \"Apple\", \"Banana\", \"Orange\", 4, 5, 6]\n",
    "\n",
    "print(a[-3])"
   ]
  },
  {
   "cell_type": "code",
   "execution_count": 55,
   "id": "1fac9887-d8c1-4f11-821d-4cb0029ee7bb",
   "metadata": {},
   "outputs": [
    {
     "name": "stdout",
     "output_type": "stream",
     "text": [
      "['Orange', 4, 5]\n"
     ]
    }
   ],
   "source": [
    "#Example 10 - Similar to the above examples, the concept of the starting index and ending index remains the same, only in the reverse order.\n",
    "\n",
    "a = [1, 2, 3, 0, \"Apple\", \"Banana\", \"Orange\", 4, 5, 6]\n",
    "\n",
    "print(a[-4:-1])"
   ]
  },
  {
   "cell_type": "code",
   "execution_count": 59,
   "id": "290ce567-b628-4b46-997b-c2c29ce7397d",
   "metadata": {},
   "outputs": [
    {
     "name": "stdout",
     "output_type": "stream",
     "text": [
      "[2, 3]\n"
     ]
    }
   ],
   "source": [
    "#Exercise 2 - Access 2nd and 3rd element of the below list using the reverse index concept\n",
    "\n",
    "a = [1, 2, 3, 0, \"Apple\", \"Banana\", \"Orange\", 4, 5, 6]\n",
    "\n",
    "print(a[-9:-7])"
   ]
  },
  {
   "cell_type": "markdown",
   "id": "389fb460-dc6f-4e47-b6eb-f08f9586fda5",
   "metadata": {},
   "source": [
    "Topic 3: Insert operations to a list"
   ]
  },
  {
   "cell_type": "code",
   "execution_count": 61,
   "id": "932f6c98-450b-4d8b-9b15-18bdc225fc22",
   "metadata": {},
   "outputs": [
    {
     "name": "stdout",
     "output_type": "stream",
     "text": [
      "[1, 2.0, 3, 'apple', 'banana']\n"
     ]
    }
   ],
   "source": [
    "#Append - In-built function offered by List, where we can insert new entity to the existing list by specifying its value. It will always be added as the last element to that list.\n",
    "\n",
    "#Example 1\n",
    "a = [1, 2.0, 3, \"apple\"]\n",
    "\n",
    "b = \"banana\"\n",
    "\n",
    "a.append(b)\n",
    "\n",
    "print(a)"
   ]
  },
  {
   "cell_type": "code",
   "execution_count": 63,
   "id": "4329d142-9c30-43df-a936-6e491b9f75df",
   "metadata": {},
   "outputs": [
    {
     "name": "stdout",
     "output_type": "stream",
     "text": [
      "[1, 2.0, 3, 'apple', 4, 5.0, 6, 'banana']\n"
     ]
    }
   ],
   "source": [
    "#Extend - In-built function offered by List, where we can append new list to the existing list.\n",
    "\n",
    "#Example 1\n",
    "a = [1, 2.0, 3, \"apple\"]\n",
    "\n",
    "b = [4, 5.0, 6, \"banana\"]\n",
    "\n",
    "a.extend(b)\n",
    "\n",
    "print(a)"
   ]
  },
  {
   "cell_type": "code",
   "execution_count": 65,
   "id": "867b6aaa-016d-4d1e-8f6f-193941caa0ea",
   "metadata": {},
   "outputs": [
    {
     "name": "stdout",
     "output_type": "stream",
     "text": [
      "[1, 'banana', 2.0, 3, 'apple']\n"
     ]
    }
   ],
   "source": [
    "#Insert - In-built function offered by List, where we can insert new entity by specifying its index in the existing list.\n",
    "\n",
    "#Example 1\n",
    "a = [1, 2.0, 3, \"apple\"]\n",
    "\n",
    "b = \"banana\"\n",
    "\n",
    "a.insert(1, b)\n",
    "\n",
    "print(a)"
   ]
  },
  {
   "cell_type": "markdown",
   "id": "1b872c2a-0c1c-4a63-b145-fed7a0d2d60e",
   "metadata": {},
   "source": [
    "Topic 4: Delete elements to a list"
   ]
  },
  {
   "cell_type": "code",
   "execution_count": 67,
   "id": "6423cfae-1ee8-4e06-816a-93c331531af4",
   "metadata": {},
   "outputs": [
    {
     "name": "stdout",
     "output_type": "stream",
     "text": [
      "[1, 2, 0, 'Apple', 'Banana', 4]\n"
     ]
    }
   ],
   "source": [
    "#Pop - In-built function offered by List, where we can delete existing entity by specifying its index in the list.\n",
    "\n",
    "#Example 1\n",
    "a = [1, 2, 3, 0, \"Apple\", \"Banana\", 4]\n",
    "\n",
    "a.pop(2)\n",
    "\n",
    "print(a)"
   ]
  },
  {
   "cell_type": "code",
   "execution_count": 69,
   "id": "87907a6e-5d5e-4ef8-a099-3272075b74f4",
   "metadata": {},
   "outputs": [
    {
     "name": "stdout",
     "output_type": "stream",
     "text": [
      "[1, 2, 0, 'Apple', 'Banana', 4]\n"
     ]
    }
   ],
   "source": [
    "#del - In-built function offered by List, similar to pop where we can delete existing entity by specifying its index in the list.\n",
    "\n",
    "#Example 1\n",
    "a = [1, 2, 3, 0, \"Apple\", \"Banana\", 4]\n",
    "\n",
    "del a[2]\n",
    "\n",
    "print(a)"
   ]
  },
  {
   "cell_type": "code",
   "execution_count": null,
   "id": "64130c87-c113-4cec-9fb8-cfc8194cfb0d",
   "metadata": {},
   "outputs": [],
   "source": []
  }
 ],
 "metadata": {
  "kernelspec": {
   "display_name": "Python 3 (ipykernel)",
   "language": "python",
   "name": "python3"
  },
  "language_info": {
   "codemirror_mode": {
    "name": "ipython",
    "version": 3
   },
   "file_extension": ".py",
   "mimetype": "text/x-python",
   "name": "python",
   "nbconvert_exporter": "python",
   "pygments_lexer": "ipython3",
   "version": "3.12.4"
  }
 },
 "nbformat": 4,
 "nbformat_minor": 5
}
